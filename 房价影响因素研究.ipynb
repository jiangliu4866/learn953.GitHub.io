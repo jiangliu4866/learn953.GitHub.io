{
 "cells": [
  {
   "cell_type": "markdown",
   "metadata": {},
   "source": [
    "房价影响因素挖掘\n",
    "原始数据：\n",
    "house_rent\n",
    "house_sell\n",
    "qgis数据\n",
    "要求\n",
    "1、数据清洗、整合\n",
    "2、计算“房屋售租比”，并做初步判断\n",
    "3、上海市人口密度、路网密度、餐饮价格和“房屋每平米均价”是否有关系呢？\n",
    "4、按照离市中心距离每10km，分别再次判断人口密度、路网密度和“房屋每平米均价”的相关程度"
   ]
  },
  {
   "cell_type": "markdown",
   "metadata": {},
   "source": [
    "1、数据清洗要求：\n",
    "①将“house_rent”、“house_sell”分别读取\n",
    "②分别计算平方米建筑面积的月租金、每平方米建筑面积的房价\n",
    "③将数据按照小区名合并"
   ]
  },
  {
   "cell_type": "code",
   "execution_count": 1,
   "metadata": {},
   "outputs": [],
   "source": [
    "import pandas as pd\n",
    "import matplotlib.pyplot as plt\n",
    "df1 = pd.read_csv(r'C:\\Users\\a5558\\Desktop\\练习\\房价影响因素挖掘\\house_rent.csv',engine = 'python') \n",
    "df2 = pd.read_csv(r'C:\\Users\\a5558\\Desktop\\练习\\房价影响因素挖掘\\house_sell.csv',engine = 'python')"
   ]
  },
  {
   "cell_type": "code",
   "execution_count": 2,
   "metadata": {},
   "outputs": [
    {
     "data": {
      "text/html": [
       "<div>\n",
       "<style scoped>\n",
       "    .dataframe tbody tr th:only-of-type {\n",
       "        vertical-align: middle;\n",
       "    }\n",
       "\n",
       "    .dataframe tbody tr th {\n",
       "        vertical-align: top;\n",
       "    }\n",
       "\n",
       "    .dataframe thead th {\n",
       "        text-align: right;\n",
       "    }\n",
       "</style>\n",
       "<table border=\"1\" class=\"dataframe\">\n",
       "  <thead>\n",
       "    <tr style=\"text-align: right;\">\n",
       "      <th></th>\n",
       "      <th>title</th>\n",
       "      <th>community</th>\n",
       "      <th>address</th>\n",
       "      <th>city</th>\n",
       "      <th>district</th>\n",
       "      <th>price</th>\n",
       "      <th>area</th>\n",
       "      <th>lng</th>\n",
       "      <th>lat</th>\n",
       "    </tr>\n",
       "  </thead>\n",
       "  <tbody>\n",
       "    <tr>\n",
       "      <th>0</th>\n",
       "      <td>曹江公寓，钥匙房，真实在租，精致户型</td>\n",
       "      <td>曹江公寓</td>\n",
       "      <td>临夏路98弄</td>\n",
       "      <td>上海</td>\n",
       "      <td>嘉定</td>\n",
       "      <td>3400</td>\n",
       "      <td>79.0</td>\n",
       "      <td>121.343132</td>\n",
       "      <td>31.264662</td>\n",
       "    </tr>\n",
       "    <tr>\n",
       "      <th>1</th>\n",
       "      <td>中星海兰苑，两室户，高清照片，如您所见</td>\n",
       "      <td>中星海兰苑</td>\n",
       "      <td>华江支路677弄</td>\n",
       "      <td>上海</td>\n",
       "      <td>嘉定</td>\n",
       "      <td>4000</td>\n",
       "      <td>80.0</td>\n",
       "      <td>121.344133</td>\n",
       "      <td>31.271693</td>\n",
       "    </tr>\n",
       "    <tr>\n",
       "      <th>2</th>\n",
       "      <td>嘉旺苑，南北通透，好房待租，空气清新</td>\n",
       "      <td>嘉旺苑</td>\n",
       "      <td>靖远路1288弄</td>\n",
       "      <td>上海</td>\n",
       "      <td>嘉定</td>\n",
       "      <td>4900</td>\n",
       "      <td>95.0</td>\n",
       "      <td>121.332318</td>\n",
       "      <td>31.262940</td>\n",
       "    </tr>\n",
       "    <tr>\n",
       "      <th>3</th>\n",
       "      <td>汇丰沁苑，小户型，高区景观房，一链倾城</td>\n",
       "      <td>汇丰沁苑</td>\n",
       "      <td>临夏路800弄;临夏路801弄</td>\n",
       "      <td>上海</td>\n",
       "      <td>嘉定</td>\n",
       "      <td>3100</td>\n",
       "      <td>53.0</td>\n",
       "      <td>121.335524</td>\n",
       "      <td>31.261589</td>\n",
       "    </tr>\n",
       "    <tr>\n",
       "      <th>4</th>\n",
       "      <td>富友嘉园，光线充足，精致户型，一链倾城</td>\n",
       "      <td>富友嘉园</td>\n",
       "      <td>临夏路999弄，临夏路1000弄</td>\n",
       "      <td>上海</td>\n",
       "      <td>嘉定</td>\n",
       "      <td>3000</td>\n",
       "      <td>72.0</td>\n",
       "      <td>121.328678</td>\n",
       "      <td>31.266058</td>\n",
       "    </tr>\n",
       "  </tbody>\n",
       "</table>\n",
       "</div>"
      ],
      "text/plain": [
       "                 title community           address city district  price  area  \\\n",
       "0   曹江公寓，钥匙房，真实在租，精致户型      曹江公寓            临夏路98弄   上海       嘉定   3400  79.0   \n",
       "1  中星海兰苑，两室户，高清照片，如您所见     中星海兰苑          华江支路677弄   上海       嘉定   4000  80.0   \n",
       "2   嘉旺苑，南北通透，好房待租，空气清新       嘉旺苑          靖远路1288弄   上海       嘉定   4900  95.0   \n",
       "3  汇丰沁苑，小户型，高区景观房，一链倾城      汇丰沁苑   临夏路800弄;临夏路801弄   上海       嘉定   3100  53.0   \n",
       "4  富友嘉园，光线充足，精致户型，一链倾城      富友嘉园  临夏路999弄，临夏路1000弄   上海       嘉定   3000  72.0   \n",
       "\n",
       "          lng        lat  \n",
       "0  121.343132  31.264662  \n",
       "1  121.344133  31.271693  \n",
       "2  121.332318  31.262940  \n",
       "3  121.335524  31.261589  \n",
       "4  121.328678  31.266058  "
      ]
     },
     "execution_count": 2,
     "metadata": {},
     "output_type": "execute_result"
    }
   ],
   "source": [
    "df1.head(5)"
   ]
  },
  {
   "cell_type": "code",
   "execution_count": 3,
   "metadata": {},
   "outputs": [
    {
     "data": {
      "text/html": [
       "<div>\n",
       "<style scoped>\n",
       "    .dataframe tbody tr th:only-of-type {\n",
       "        vertical-align: middle;\n",
       "    }\n",
       "\n",
       "    .dataframe tbody tr th {\n",
       "        vertical-align: top;\n",
       "    }\n",
       "\n",
       "    .dataframe thead th {\n",
       "        text-align: right;\n",
       "    }\n",
       "</style>\n",
       "<table border=\"1\" class=\"dataframe\">\n",
       "  <thead>\n",
       "    <tr style=\"text-align: right;\">\n",
       "      <th></th>\n",
       "      <th>title</th>\n",
       "      <th>property_name</th>\n",
       "      <th>address</th>\n",
       "      <th>city</th>\n",
       "      <th>district</th>\n",
       "      <th>total_price</th>\n",
       "      <th>area</th>\n",
       "      <th>average_price</th>\n",
       "      <th>lat</th>\n",
       "      <th>lng</th>\n",
       "    </tr>\n",
       "  </thead>\n",
       "  <tbody>\n",
       "    <tr>\n",
       "      <th>0</th>\n",
       "      <td>鑫苑国际城市花园，真实在售，视野很好，上门实勘</td>\n",
       "      <td>鑫苑国际城市花园</td>\n",
       "      <td>绿地大道189号</td>\n",
       "      <td>上海</td>\n",
       "      <td>上海周边</td>\n",
       "      <td>160.0</td>\n",
       "      <td>88.00</td>\n",
       "      <td>18181.0</td>\n",
       "      <td>31.286296</td>\n",
       "      <td>121.143489</td>\n",
       "    </tr>\n",
       "    <tr>\n",
       "      <th>1</th>\n",
       "      <td>南北直通，高区景观房，拎包入住，房本满五年</td>\n",
       "      <td>花苑新村（昆山）上海周边昆山</td>\n",
       "      <td>花桥镇花苑新村</td>\n",
       "      <td>上海</td>\n",
       "      <td>上海周边</td>\n",
       "      <td>210.0</td>\n",
       "      <td>169.83</td>\n",
       "      <td>12365.0</td>\n",
       "      <td>31.308387</td>\n",
       "      <td>121.082040</td>\n",
       "    </tr>\n",
       "    <tr>\n",
       "      <th>2</th>\n",
       "      <td>正规成熟小区，一链倾城，装修精致，3室2厅</td>\n",
       "      <td>绿地卡米小城</td>\n",
       "      <td>外青松公路988号</td>\n",
       "      <td>上海</td>\n",
       "      <td>上海周边</td>\n",
       "      <td>180.0</td>\n",
       "      <td>87.75</td>\n",
       "      <td>20512.0</td>\n",
       "      <td>31.311252</td>\n",
       "      <td>121.148217</td>\n",
       "    </tr>\n",
       "    <tr>\n",
       "      <th>3</th>\n",
       "      <td>厨卫全明，客厅朝南，低区出入方便，装修精美</td>\n",
       "      <td>绿地卡米小城上海周边昆山</td>\n",
       "      <td>外青松公路988号</td>\n",
       "      <td>上海</td>\n",
       "      <td>上海周边</td>\n",
       "      <td>180.0</td>\n",
       "      <td>90.00</td>\n",
       "      <td>20000.0</td>\n",
       "      <td>31.311252</td>\n",
       "      <td>121.148217</td>\n",
       "    </tr>\n",
       "    <tr>\n",
       "      <th>4</th>\n",
       "      <td>绿地启航社，好楼层，温馨一室，如您所见</td>\n",
       "      <td>绿地启航社</td>\n",
       "      <td>绿地大道199弄</td>\n",
       "      <td>上海</td>\n",
       "      <td>上海周边</td>\n",
       "      <td>118.0</td>\n",
       "      <td>54.65</td>\n",
       "      <td>21591.0</td>\n",
       "      <td>NaN</td>\n",
       "      <td>NaN</td>\n",
       "    </tr>\n",
       "  </tbody>\n",
       "</table>\n",
       "</div>"
      ],
      "text/plain": [
       "                     title   property_name    address city district  \\\n",
       "0  鑫苑国际城市花园，真实在售，视野很好，上门实勘        鑫苑国际城市花园   绿地大道189号   上海     上海周边   \n",
       "1    南北直通，高区景观房，拎包入住，房本满五年  花苑新村（昆山）上海周边昆山    花桥镇花苑新村   上海     上海周边   \n",
       "2    正规成熟小区，一链倾城，装修精致，3室2厅          绿地卡米小城  外青松公路988号   上海     上海周边   \n",
       "3    厨卫全明，客厅朝南，低区出入方便，装修精美    绿地卡米小城上海周边昆山  外青松公路988号   上海     上海周边   \n",
       "4      绿地启航社，好楼层，温馨一室，如您所见           绿地启航社   绿地大道199弄   上海     上海周边   \n",
       "\n",
       "   total_price    area  average_price        lat         lng  \n",
       "0        160.0   88.00        18181.0  31.286296  121.143489  \n",
       "1        210.0  169.83        12365.0  31.308387  121.082040  \n",
       "2        180.0   87.75        20512.0  31.311252  121.148217  \n",
       "3        180.0   90.00        20000.0  31.311252  121.148217  \n",
       "4        118.0   54.65        21591.0        NaN         NaN  "
      ]
     },
     "execution_count": 3,
     "metadata": {},
     "output_type": "execute_result"
    }
   ],
   "source": [
    "df2.head(5)"
   ]
  },
  {
   "cell_type": "code",
   "execution_count": 4,
   "metadata": {},
   "outputs": [
    {
     "data": {
      "text/html": [
       "<div>\n",
       "<style scoped>\n",
       "    .dataframe tbody tr th:only-of-type {\n",
       "        vertical-align: middle;\n",
       "    }\n",
       "\n",
       "    .dataframe tbody tr th {\n",
       "        vertical-align: top;\n",
       "    }\n",
       "\n",
       "    .dataframe thead th {\n",
       "        text-align: right;\n",
       "    }\n",
       "</style>\n",
       "<table border=\"1\" class=\"dataframe\">\n",
       "  <thead>\n",
       "    <tr style=\"text-align: right;\">\n",
       "      <th></th>\n",
       "      <th>community</th>\n",
       "      <th>square_rent</th>\n",
       "      <th>average_price</th>\n",
       "      <th>lng</th>\n",
       "      <th>lat</th>\n",
       "    </tr>\n",
       "  </thead>\n",
       "  <tbody>\n",
       "    <tr>\n",
       "      <th>0</th>\n",
       "      <td>VIP大厦</td>\n",
       "      <td>91.950017</td>\n",
       "      <td>75933.000000</td>\n",
       "      <td>121.532216</td>\n",
       "      <td>31.246939</td>\n",
       "    </tr>\n",
       "    <tr>\n",
       "      <th>1</th>\n",
       "      <td>一品名人居</td>\n",
       "      <td>110.929607</td>\n",
       "      <td>82699.000000</td>\n",
       "      <td>121.453460</td>\n",
       "      <td>31.241146</td>\n",
       "    </tr>\n",
       "    <tr>\n",
       "      <th>2</th>\n",
       "      <td>一品新筑苑</td>\n",
       "      <td>74.719974</td>\n",
       "      <td>73413.818182</td>\n",
       "      <td>121.477821</td>\n",
       "      <td>31.308435</td>\n",
       "    </tr>\n",
       "    <tr>\n",
       "      <th>3</th>\n",
       "      <td>一品漫城(一期)(公寓)</td>\n",
       "      <td>119.869790</td>\n",
       "      <td>59565.137931</td>\n",
       "      <td>121.501431</td>\n",
       "      <td>31.123422</td>\n",
       "    </tr>\n",
       "    <tr>\n",
       "      <th>4</th>\n",
       "      <td>一品漫城(一期)(别墅)</td>\n",
       "      <td>70.518859</td>\n",
       "      <td>62391.666667</td>\n",
       "      <td>121.500957</td>\n",
       "      <td>31.122432</td>\n",
       "    </tr>\n",
       "  </tbody>\n",
       "</table>\n",
       "</div>"
      ],
      "text/plain": [
       "      community  square_rent  average_price         lng        lat\n",
       "0         VIP大厦    91.950017   75933.000000  121.532216  31.246939\n",
       "1         一品名人居   110.929607   82699.000000  121.453460  31.241146\n",
       "2         一品新筑苑    74.719974   73413.818182  121.477821  31.308435\n",
       "3  一品漫城(一期)(公寓)   119.869790   59565.137931  121.501431  31.123422\n",
       "4  一品漫城(一期)(别墅)    70.518859   62391.666667  121.500957  31.122432"
      ]
     },
     "execution_count": 4,
     "metadata": {},
     "output_type": "execute_result"
    }
   ],
   "source": [
    "df1.dropna(inplace = True) #默认为False，True是指直接在原有数据上进行修改\n",
    "df2.dropna(inplace = True)\n",
    "df1[\"square_rent\"] =df1[\"price\"]/df1[\"area\"] \n",
    "\n",
    "data_rent = df1[[\"community\",\"square_rent\",\"lng\",\"lat\"]].groupby(df1[\"community\"]).mean()\n",
    "data_sell = df2[[\"property_name\",\"average_price\",\"lng\",\"lat\"]].groupby(df2[\"property_name\"]).mean()\n",
    "data_rent.reset_index(inplace=True)  #不重新建立索引会报错\n",
    "data_sell.reset_index(inplace=True)\n",
    "data = pd.merge(data_rent,data_sell,left_on=\"community\",right_on=\"property_name\") #默认取交集\n",
    "data = data[[\"community\",\"square_rent\",\"average_price\",\"lng_x\",\"lat_x\"]]  #合并后相同列会在后缀中加x和y\n",
    "data.rename(columns={\"lng_x\":\"lng\",\"lat_x\":\"lat\"},inplace=\"True\")\n",
    "data.head(5)"
   ]
  },
  {
   "cell_type": "markdown",
   "metadata": {},
   "source": [
    "2、计算“房屋售租比”，并做初步判断\n",
    "要求：\n",
    "①计算指标\n",
    "②绘制直方图、箱型图看“售租比”的一个数据分布情况"
   ]
  },
  {
   "cell_type": "code",
   "execution_count": 5,
   "metadata": {},
   "outputs": [
    {
     "data": {
      "text/plain": [
       "Text(0.5, 1.0, '直方图')"
      ]
     },
     "execution_count": 5,
     "metadata": {},
     "output_type": "execute_result"
    },
    {
     "data": {
      "image/png": "[encoded data removed]",
      "text/plain": [
       "<Figure size 864x432 with 1 Axes>"
      ]
     },
     "metadata": {
      "needs_background": "light"
     },
     "output_type": "display_data"
    }
   ],
   "source": [
    "plt.rcParams['font.sans-serif']=['SimHei']  #解决中文乱码问题\n",
    "plt.rcParams['axes.unicode_minus']=False\n",
    "\n",
    "data[\"sell_rent\"] = data[\"average_price\"]/data[\"square_rent\"]\n",
    "#n,bins,patches = plt.hist(data[\"sell_rent\"], bins=100, facecolor=\"g\", edgecolor=\"black\", alpha = 0.8,)  \n",
    "data[\"sell_rent\"].plot.hist(bins=100, facecolor=\"g\", edgecolor=\"black\",grid=True,figsize=(12,6), alpha=0.8) \n",
    "plt.title(\"直方图\")"
   ]
  },
  {
   "cell_type": "code",
   "execution_count": 6,
   "metadata": {},
   "outputs": [
    {
     "data": {
      "text/plain": [
       "Text(0.5, 1.0, '箱线图')"
      ]
     },
     "execution_count": 6,
     "metadata": {},
     "output_type": "execute_result"
    },
    {
     "data": {
      "image/png": "[encoded data removed]",
      "text/plain": [
       "<Figure size 432x864 with 1 Axes>"
      ]
     },
     "metadata": {
      "needs_background": "light"
     },
     "output_type": "display_data"
    }
   ],
   "source": [
    "#plt.boxplot(data[\"sell_rent\"])\n",
    "data[\"sell_rent\"].plot.box(figsize = (6,12))\n",
    "plt.title(\"箱线图\")"
   ]
  },
  {
   "cell_type": "markdown",
   "metadata": {},
   "source": [
    "3、上海市人口密度、路网密度、餐饮价格和“房屋每平米均价”是否有关系呢？\n",
    "要求：\n",
    "① 首先，导出整理好的数据，并qgis中绘制空间格网图，查看房屋每平米均价、房屋每平米租金及售租比数据的空间分布\n",
    "② 第二，空间统计，分别按照格网对人口密度、路网密度、餐饮价格进行指标统计并标准化\n",
    "③ 第三，加载上海中心点point空间数据，计算每个网格到市中心距离\n",
    "④ 第四，将空间格网的“房屋每平米均价”按照距市中心的距离排序，并制作散点图，看看能否挖掘出什么信息"
   ]
  },
  {
   "cell_type": "code",
   "execution_count": 7,
   "metadata": {},
   "outputs": [
    {
     "name": "stdout",
     "output_type": "stream",
     "text": [
      "finished\n"
     ]
    }
   ],
   "source": [
    "data.to_csv(r'C:\\Users\\a5558\\Desktop\\练习\\房价影响因素挖掘\\'pro10data.csv')\n",
    "print(\"finished\")"
   ]
  },
  {
   "cell_type": "markdown",
   "metadata": {},
   "source": [
    "3、上海市人口密度、路网密度、餐饮价格和“房屋每平米均价”是否有关系呢？\n",
    "要求：\n",
    "① 首先，导出整理好的数据，并qgis中绘制空间格网图，查看房屋每平米均价、房屋每平米租金及售租比数据的空间分布\n",
    "② 第二，空间统计，分别按照格网对人口密度、路网密度进行指标统计并标准化\n",
    "③ 第三，加载上海中心点point空间数据，计算每个网格到市中心距离\n",
    "④ 第四，将空间格网的“房屋每平米均价”按照距市中心的距离排序，并制作散点图，看看能否挖掘出什么信息\n",
    "这里市中心点坐标为：lng-353508.848122，lat-3456140.926976 (投影坐标系)"
   ]
  },
  {
   "cell_type": "code",
   "execution_count": 8,
   "metadata": {},
   "outputs": [
    {
     "data": {
      "text/html": [
       "<div>\n",
       "<style scoped>\n",
       "    .dataframe tbody tr th:only-of-type {\n",
       "        vertical-align: middle;\n",
       "    }\n",
       "\n",
       "    .dataframe tbody tr th {\n",
       "        vertical-align: top;\n",
       "    }\n",
       "\n",
       "    .dataframe thead th {\n",
       "        text-align: right;\n",
       "    }\n",
       "</style>\n",
       "<table border=\"1\" class=\"dataframe\">\n",
       "  <thead>\n",
       "    <tr style=\"text-align: right;\">\n",
       "      <th></th>\n",
       "      <th>Z</th>\n",
       "      <th>长度</th>\n",
       "      <th>data_count</th>\n",
       "      <th>average_pr</th>\n",
       "      <th>square_ren</th>\n",
       "      <th>sell_rent</th>\n",
       "      <th>lng</th>\n",
       "      <th>lat</th>\n",
       "    </tr>\n",
       "  </thead>\n",
       "  <tbody>\n",
       "    <tr>\n",
       "      <th>0</th>\n",
       "      <td>0</td>\n",
       "      <td>0.000000</td>\n",
       "      <td>0.0</td>\n",
       "      <td>0.0</td>\n",
       "      <td>0.0</td>\n",
       "      <td>0.0</td>\n",
       "      <td>334590</td>\n",
       "      <td>3396011</td>\n",
       "    </tr>\n",
       "    <tr>\n",
       "      <th>1</th>\n",
       "      <td>0</td>\n",
       "      <td>128.477758</td>\n",
       "      <td>0.0</td>\n",
       "      <td>0.0</td>\n",
       "      <td>0.0</td>\n",
       "      <td>0.0</td>\n",
       "      <td>333590</td>\n",
       "      <td>3397011</td>\n",
       "    </tr>\n",
       "    <tr>\n",
       "      <th>2</th>\n",
       "      <td>0</td>\n",
       "      <td>1539.908057</td>\n",
       "      <td>0.0</td>\n",
       "      <td>0.0</td>\n",
       "      <td>0.0</td>\n",
       "      <td>0.0</td>\n",
       "      <td>334590</td>\n",
       "      <td>3397011</td>\n",
       "    </tr>\n",
       "    <tr>\n",
       "      <th>3</th>\n",
       "      <td>0</td>\n",
       "      <td>1032.299541</td>\n",
       "      <td>0.0</td>\n",
       "      <td>0.0</td>\n",
       "      <td>0.0</td>\n",
       "      <td>0.0</td>\n",
       "      <td>335590</td>\n",
       "      <td>3397011</td>\n",
       "    </tr>\n",
       "    <tr>\n",
       "      <th>4</th>\n",
       "      <td>0</td>\n",
       "      <td>1543.891782</td>\n",
       "      <td>0.0</td>\n",
       "      <td>0.0</td>\n",
       "      <td>0.0</td>\n",
       "      <td>0.0</td>\n",
       "      <td>336590</td>\n",
       "      <td>3397011</td>\n",
       "    </tr>\n",
       "    <tr>\n",
       "      <th>5</th>\n",
       "      <td>0</td>\n",
       "      <td>172.251963</td>\n",
       "      <td>0.0</td>\n",
       "      <td>0.0</td>\n",
       "      <td>0.0</td>\n",
       "      <td>0.0</td>\n",
       "      <td>337590</td>\n",
       "      <td>3397011</td>\n",
       "    </tr>\n",
       "    <tr>\n",
       "      <th>6</th>\n",
       "      <td>0</td>\n",
       "      <td>2038.437108</td>\n",
       "      <td>0.0</td>\n",
       "      <td>0.0</td>\n",
       "      <td>0.0</td>\n",
       "      <td>0.0</td>\n",
       "      <td>338590</td>\n",
       "      <td>3397011</td>\n",
       "    </tr>\n",
       "    <tr>\n",
       "      <th>7</th>\n",
       "      <td>0</td>\n",
       "      <td>2011.393625</td>\n",
       "      <td>0.0</td>\n",
       "      <td>0.0</td>\n",
       "      <td>0.0</td>\n",
       "      <td>0.0</td>\n",
       "      <td>339590</td>\n",
       "      <td>3397011</td>\n",
       "    </tr>\n",
       "    <tr>\n",
       "      <th>8</th>\n",
       "      <td>0</td>\n",
       "      <td>123.736459</td>\n",
       "      <td>0.0</td>\n",
       "      <td>0.0</td>\n",
       "      <td>0.0</td>\n",
       "      <td>0.0</td>\n",
       "      <td>340590</td>\n",
       "      <td>3397011</td>\n",
       "    </tr>\n",
       "    <tr>\n",
       "      <th>9</th>\n",
       "      <td>0</td>\n",
       "      <td>1001.947338</td>\n",
       "      <td>0.0</td>\n",
       "      <td>0.0</td>\n",
       "      <td>0.0</td>\n",
       "      <td>0.0</td>\n",
       "      <td>333590</td>\n",
       "      <td>3398011</td>\n",
       "    </tr>\n",
       "  </tbody>\n",
       "</table>\n",
       "</div>"
      ],
      "text/plain": [
       "   Z           长度  data_count  average_pr  square_ren  sell_rent     lng  \\\n",
       "0  0     0.000000         0.0         0.0         0.0        0.0  334590   \n",
       "1  0   128.477758         0.0         0.0         0.0        0.0  333590   \n",
       "2  0  1539.908057         0.0         0.0         0.0        0.0  334590   \n",
       "3  0  1032.299541         0.0         0.0         0.0        0.0  335590   \n",
       "4  0  1543.891782         0.0         0.0         0.0        0.0  336590   \n",
       "5  0   172.251963         0.0         0.0         0.0        0.0  337590   \n",
       "6  0  2038.437108         0.0         0.0         0.0        0.0  338590   \n",
       "7  0  2011.393625         0.0         0.0         0.0        0.0  339590   \n",
       "8  0   123.736459         0.0         0.0         0.0        0.0  340590   \n",
       "9  0  1001.947338         0.0         0.0         0.0        0.0  333590   \n",
       "\n",
       "       lat  \n",
       "0  3396011  \n",
       "1  3397011  \n",
       "2  3397011  \n",
       "3  3397011  \n",
       "4  3397011  \n",
       "5  3397011  \n",
       "6  3397011  \n",
       "7  3397011  \n",
       "8  3397011  \n",
       "9  3398011  "
      ]
     },
     "execution_count": 8,
     "metadata": {},
     "output_type": "execute_result"
    }
   ],
   "source": [
    "data_1 = pd.read_csv(r'C:\\Users\\a5558\\Desktop\\练习\\房价影响因素挖掘\\result.csv')  #通过qgis得到数据\n",
    "data_1.fillna(0, inplace = True)\n",
    "data_1.head(10)"
   ]
  },
  {
   "cell_type": "code",
   "execution_count": 9,
   "metadata": {},
   "outputs": [
    {
     "data": {
      "text/html": [
       "<div>\n",
       "<style scoped>\n",
       "    .dataframe tbody tr th:only-of-type {\n",
       "        vertical-align: middle;\n",
       "    }\n",
       "\n",
       "    .dataframe tbody tr th {\n",
       "        vertical-align: top;\n",
       "    }\n",
       "\n",
       "    .dataframe thead th {\n",
       "        text-align: right;\n",
       "    }\n",
       "</style>\n",
       "<table border=\"1\" class=\"dataframe\">\n",
       "  <thead>\n",
       "    <tr style=\"text-align: right;\">\n",
       "      <th></th>\n",
       "      <th>人口密度</th>\n",
       "      <th>路网密度</th>\n",
       "      <th>距离市中心距离</th>\n",
       "      <th>房屋均价</th>\n",
       "    </tr>\n",
       "  </thead>\n",
       "  <tbody>\n",
       "    <tr>\n",
       "      <th>0</th>\n",
       "      <td>0.000000</td>\n",
       "      <td>0.354069</td>\n",
       "      <td>58359.981981</td>\n",
       "      <td>19501.00000</td>\n",
       "    </tr>\n",
       "    <tr>\n",
       "      <th>1</th>\n",
       "      <td>0.000000</td>\n",
       "      <td>0.064443</td>\n",
       "      <td>58163.990583</td>\n",
       "      <td>13830.00000</td>\n",
       "    </tr>\n",
       "    <tr>\n",
       "      <th>2</th>\n",
       "      <td>0.000000</td>\n",
       "      <td>0.375962</td>\n",
       "      <td>57381.422454</td>\n",
       "      <td>18119.00000</td>\n",
       "    </tr>\n",
       "    <tr>\n",
       "      <th>3</th>\n",
       "      <td>0.000000</td>\n",
       "      <td>0.109135</td>\n",
       "      <td>57182.077145</td>\n",
       "      <td>19153.66667</td>\n",
       "    </tr>\n",
       "    <tr>\n",
       "      <th>4</th>\n",
       "      <td>0.000000</td>\n",
       "      <td>0.002015</td>\n",
       "      <td>56999.581142</td>\n",
       "      <td>26648.00000</td>\n",
       "    </tr>\n",
       "    <tr>\n",
       "      <th>5</th>\n",
       "      <td>0.266286</td>\n",
       "      <td>0.169536</td>\n",
       "      <td>56859.855623</td>\n",
       "      <td>14174.00000</td>\n",
       "    </tr>\n",
       "    <tr>\n",
       "      <th>6</th>\n",
       "      <td>0.149961</td>\n",
       "      <td>0.328984</td>\n",
       "      <td>56403.615034</td>\n",
       "      <td>27544.50000</td>\n",
       "    </tr>\n",
       "    <tr>\n",
       "      <th>7</th>\n",
       "      <td>0.000000</td>\n",
       "      <td>0.421804</td>\n",
       "      <td>56200.801531</td>\n",
       "      <td>25410.00000</td>\n",
       "    </tr>\n",
       "    <tr>\n",
       "      <th>8</th>\n",
       "      <td>0.000000</td>\n",
       "      <td>0.129160</td>\n",
       "      <td>56015.108644</td>\n",
       "      <td>22124.00000</td>\n",
       "    </tr>\n",
       "    <tr>\n",
       "      <th>9</th>\n",
       "      <td>0.260570</td>\n",
       "      <td>0.115057</td>\n",
       "      <td>55890.816128</td>\n",
       "      <td>23630.40000</td>\n",
       "    </tr>\n",
       "  </tbody>\n",
       "</table>\n",
       "</div>"
      ],
      "text/plain": [
       "       人口密度      路网密度       距离市中心距离         房屋均价\n",
       "0  0.000000  0.354069  58359.981981  19501.00000\n",
       "1  0.000000  0.064443  58163.990583  13830.00000\n",
       "2  0.000000  0.375962  57381.422454  18119.00000\n",
       "3  0.000000  0.109135  57182.077145  19153.66667\n",
       "4  0.000000  0.002015  56999.581142  26648.00000\n",
       "5  0.266286  0.169536  56859.855623  14174.00000\n",
       "6  0.149961  0.328984  56403.615034  27544.50000\n",
       "7  0.000000  0.421804  56200.801531  25410.00000\n",
       "8  0.000000  0.129160  56015.108644  22124.00000\n",
       "9  0.260570  0.115057  55890.816128  23630.40000"
      ]
     },
     "execution_count": 9,
     "metadata": {},
     "output_type": "execute_result"
    }
   ],
   "source": [
    "#指标标准化处理\n",
    "def f1(data,col):\n",
    "    return (data[col]-data[col].min())/(data[col].max()-data[col].min())\n",
    "data_1[\"人口密度\"] = f1(data_1,\"Z\")\n",
    "data_1[\"路网密度\"] = f1(data_1,\"长度\")\n",
    "data_1[\"距离市中心距离\"] = ((data_1[\"lng\"]-353508.848122)**2 + (data_1[\"lat\"]-3456140.926976)**2)**0.5\n",
    "data_1[\"房屋均价\"] = data_1[\"average_pr\"]\n",
    "data_new = data_1[[\"人口密度\",\"路网密度\",\"距离市中心距离\",\"房屋均价\"]]\n",
    "data_new = data_new[data_new[\"房屋均价\"]>0].reset_index() #去掉均价的0的数据，索引不会自动更新\n",
    "del data_new[\"index\"]\n",
    "data_new.head(10)"
   ]
  },
  {
   "cell_type": "code",
   "execution_count": 10,
   "metadata": {
    "scrolled": true
   },
   "outputs": [
    {
     "data": {
      "image/png": "[encoded data removed]",
      "text/plain": [
       "<Figure size 1080x648 with 3 Axes>"
      ]
     },
     "metadata": {
      "needs_background": "light"
     },
     "output_type": "display_data"
    }
   ],
   "source": [
    "plt.figure(figsize=(15,9))\n",
    "plt.subplot(3,1,1)\n",
    "plt.scatter(data_new[\"人口密度\"],data_new[\"房屋均价\"],s=2)\n",
    "plt.xlabel(\"人口密度\")\n",
    "plt.ylabel(\"房屋均价\")\n",
    "plt.grid()\n",
    "plt.subplot(3,1,2)\n",
    "plt.scatter(data_new[\"路网密度\"],data_new[\"房屋均价\"],s=2)\n",
    "plt.xlabel(\"路网密度\")\n",
    "plt.ylabel(\"房屋均价\")\n",
    "plt.grid()\n",
    "plt.subplot(3,1,3)\n",
    "plt.scatter(data_new[\"距离市中心距离\"],data_new[\"房屋均价\"],s=2)\n",
    "plt.xlabel(\"距离市中心距离\")\n",
    "plt.ylabel(\"房屋均价\")\n",
    "plt.grid()"
   ]
  },
  {
   "cell_type": "markdown",
   "metadata": {},
   "source": [
    "结论：距离市中心距离和房价的相关程度最高，人口密度和路网密度对房价也有较大的影响"
   ]
  },
  {
   "cell_type": "markdown",
   "metadata": {},
   "source": [
    "4、按照离市中心距离每10km，分别再次判断人口密度、路网密度、餐饮价格和“房屋每平米均价”的相关程度\n",
    "要求：\n",
    "① 按照空间距离分别迭代计算指标和“房屋每平米均价”的关系\n",
    "② 绘制折线图查看：随着市中心距离增加，不同指标相关系系数变化情况"
   ]
  },
  {
   "cell_type": "code",
   "execution_count": 11,
   "metadata": {},
   "outputs": [
    {
     "name": "stdout",
     "output_type": "stream",
     "text": [
      "人口密度       0.069674\n",
      "路网密度      -0.091147\n",
      "距离市中心距离   -0.493409\n",
      "房屋均价       1.000000\n",
      "Name: 房屋均价, dtype: float64\n",
      "人口密度       0.370515\n",
      "路网密度       0.195327\n",
      "距离市中心距离   -0.595894\n",
      "房屋均价       1.000000\n",
      "Name: 房屋均价, dtype: float64\n",
      "人口密度       0.494079\n",
      "路网密度       0.377879\n",
      "距离市中心距离   -0.713063\n",
      "房屋均价       1.000000\n",
      "Name: 房屋均价, dtype: float64\n",
      "人口密度       0.462663\n",
      "路网密度       0.412154\n",
      "距离市中心距离   -0.731038\n",
      "房屋均价       1.000000\n",
      "Name: 房屋均价, dtype: float64\n",
      "人口密度       0.490142\n",
      "路网密度       0.441356\n",
      "距离市中心距离   -0.743073\n",
      "房屋均价       1.000000\n",
      "Name: 房屋均价, dtype: float64\n",
      "人口密度       0.502724\n",
      "路网密度       0.449742\n",
      "距离市中心距离   -0.735211\n",
      "房屋均价       1.000000\n",
      "Name: 房屋均价, dtype: float64\n"
     ]
    }
   ],
   "source": [
    "dis = []  #距离列表,为画图做准备\n",
    "rkmd_corr = []  #人口密度相关系数列表\n",
    "lwmd_corr = []  #路网密度相关系数列表\n",
    "jl_corr = []    #距离相关系数列表\n",
    "for distance in range(10000,70000,10000):      \n",
    "    data_new1 = data_new[data_new[\"距离市中心距离\"] <= distance]\n",
    "    cor = data_new1.corr().loc[\"房屋均价\"]   #相关系数计算\n",
    "    dis.append(distance)\n",
    "    rkmd_corr.append(cor.loc[\"人口密度\"])\n",
    "    lwmd_corr.append(cor.loc[\"路网密度\"])\n",
    "    jl_corr.append(cor.loc[\"距离市中心距离\"])\n",
    "    print(cor)"
   ]
  },
  {
   "cell_type": "code",
   "execution_count": 12,
   "metadata": {},
   "outputs": [
    {
     "data": {
      "text/plain": [
       "<matplotlib.legend.Legend at 0x13c1ee5eba8>"
      ]
     },
     "execution_count": 12,
     "metadata": {},
     "output_type": "execute_result"
    },
    {
     "data": {
      "image/png": "[encoded data removed]",
      "text/plain": [
       "<Figure size 864x432 with 1 Axes>"
      ]
     },
     "metadata": {
      "needs_background": "light"
     },
     "output_type": "display_data"
    }
   ],
   "source": [
    "plt.figure(figsize=(12,6))\n",
    "x = dis\n",
    "y1 = rkmd_corr\n",
    "y2 = lwmd_corr\n",
    "y3 = jl_corr\n",
    "plt.plot(x, y1, color=\"b\", linestyle='--',label=\"人口密度相关系数\")\n",
    "plt.plot(x, y2, color=\"k\", label=\"路网密度相关系数\")\n",
    "plt.plot(x, y3, color=\"r\", label=\"距离相关系数\")\n",
    "plt.grid()\n",
    "plt.legend((\"人口密度相关系数\", \"路网密度相关系数\", \"距离相关系数\"), loc='right') "
   ]
  },
  {
   "cell_type": "markdown",
   "metadata": {},
   "source": [
    "结论：“人口密度”、“路网密度”、“离市中心距离”和“房屋均价”有着明显的相关性，且随着距离的增加，相关性变得更强，距离的分界线大概在20-30km处，这正是上海中心城区和郊区的分界"
   ]
  }
 ],
 "metadata": {
  "kernelspec": {
   "display_name": "Python 3",
   "language": "python",
   "name": "python3"
  },
  "language_info": {
   "codemirror_mode": {
    "name": "ipython",
    "version": 3
   },
   "file_extension": ".py",
   "mimetype": "text/x-python",
   "name": "python",
   "nbconvert_exporter": "python",
   "pygments_lexer": "ipython3",
   "version": "3.7.3"
  }
 },
 "nbformat": 4,
 "nbformat_minor": 2
}
