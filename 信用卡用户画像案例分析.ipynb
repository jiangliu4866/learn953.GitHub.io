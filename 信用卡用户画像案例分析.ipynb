{
 "cells": [
  {
   "cell_type": "code",
   "execution_count": 1,
   "metadata": {},
   "outputs": [],
   "source": [
    "#信用卡用户画像案例分析\n",
    "'''案例背景：\n",
    "    clients: client_id(客户号) sex（性别） birth_data（出生日期） disrtict_id(客户所属地区)\n",
    "    disp: disp_id(权限号) client_id(客户号) account_id(账户号) type(权限类型)\n",
    "    trans: trans_id(交易序号) account_id(账户号) date(交易日期) type(借贷类型) operation(交易类型) \n",
    "           amount(金额) balance(账户余额) K_symbol(交易特征) bank(对方银行) account(对方账户号)\n",
    "    card: card_id(信用卡id) disp_id(权限号) type(卡类型) issued(发卡日期)\n",
    "'''\n",
    "import pandas as pd\n",
    "import os\n",
    "\n",
    "os.chdir('E:\\新建文件夹\\案例\\信用卡用户画像')"
   ]
  },
  {
   "cell_type": "code",
   "execution_count": 2,
   "metadata": {},
   "outputs": [],
   "source": [
    "import sqlite3\n",
    "con = sqlite3.connect(':memory:') #内存中创建数据库"
   ]
  },
  {
   "cell_type": "code",
   "execution_count": 3,
   "metadata": {},
   "outputs": [],
   "source": [
    "#导入数据\n",
    "card = pd.read_csv(r'card.csv',encoding='gbk')\n",
    "disp = pd.read_csv(r'disp.csv',encoding='gbk')\n",
    "clients = pd.read_csv(r'clients.csv',encoding='gbk')\n",
    "trans = pd.read_csv(r'trans.csv',encoding='gbk',low_memory=False)\n",
    "card.to_sql('card', con)\n",
    "disp.to_sql('disp', con)\n",
    "clients.to_sql('clients', con)\n",
    "trans.to_sql('trans', con)  "
   ]
  },
  {
   "cell_type": "code",
   "execution_count": 4,
   "metadata": {},
   "outputs": [
    {
     "data": {
      "text/html": [
       "<div>\n",
       "<style scoped>\n",
       "    .dataframe tbody tr th:only-of-type {\n",
       "        vertical-align: middle;\n",
       "    }\n",
       "\n",
       "    .dataframe tbody tr th {\n",
       "        vertical-align: top;\n",
       "    }\n",
       "\n",
       "    .dataframe thead th {\n",
       "        text-align: right;\n",
       "    }\n",
       "</style>\n",
       "<table border=\"1\" class=\"dataframe\">\n",
       "  <thead>\n",
       "    <tr style=\"text-align: right;\">\n",
       "      <th></th>\n",
       "      <th>index</th>\n",
       "      <th>card_id</th>\n",
       "      <th>disp_id</th>\n",
       "      <th>issued</th>\n",
       "      <th>type</th>\n",
       "      <th>sex</th>\n",
       "      <th>birth_date</th>\n",
       "      <th>district_id</th>\n",
       "    </tr>\n",
       "  </thead>\n",
       "  <tbody>\n",
       "    <tr>\n",
       "      <th>0</th>\n",
       "      <td>777</td>\n",
       "      <td>1</td>\n",
       "      <td>9</td>\n",
       "      <td>1998-10-16</td>\n",
       "      <td>金卡</td>\n",
       "      <td>男</td>\n",
       "      <td>1935-10-16</td>\n",
       "      <td>60</td>\n",
       "    </tr>\n",
       "    <tr>\n",
       "      <th>1</th>\n",
       "      <td>508</td>\n",
       "      <td>2</td>\n",
       "      <td>19</td>\n",
       "      <td>1998-03-13</td>\n",
       "      <td>普通卡</td>\n",
       "      <td>男</td>\n",
       "      <td>1942-12-28</td>\n",
       "      <td>47</td>\n",
       "    </tr>\n",
       "    <tr>\n",
       "      <th>2</th>\n",
       "      <td>64</td>\n",
       "      <td>3</td>\n",
       "      <td>41</td>\n",
       "      <td>1995-09-03</td>\n",
       "      <td>金卡</td>\n",
       "      <td>男</td>\n",
       "      <td>1968-08-27</td>\n",
       "      <td>22</td>\n",
       "    </tr>\n",
       "    <tr>\n",
       "      <th>3</th>\n",
       "      <td>840</td>\n",
       "      <td>4</td>\n",
       "      <td>42</td>\n",
       "      <td>1998-11-26</td>\n",
       "      <td>普通卡</td>\n",
       "      <td>男</td>\n",
       "      <td>1935-08-17</td>\n",
       "      <td>68</td>\n",
       "    </tr>\n",
       "    <tr>\n",
       "      <th>4</th>\n",
       "      <td>40</td>\n",
       "      <td>5</td>\n",
       "      <td>51</td>\n",
       "      <td>1995-04-24</td>\n",
       "      <td>青年卡</td>\n",
       "      <td>女</td>\n",
       "      <td>1979-12-02</td>\n",
       "      <td>36</td>\n",
       "    </tr>\n",
       "  </tbody>\n",
       "</table>\n",
       "</div>"
      ],
      "text/plain": [
       "   index  card_id  disp_id      issued type sex  birth_date  district_id\n",
       "0    777        1        9  1998-10-16   金卡   男  1935-10-16           60\n",
       "1    508        2       19  1998-03-13  普通卡   男  1942-12-28           47\n",
       "2     64        3       41  1995-09-03   金卡   男  1968-08-27           22\n",
       "3    840        4       42  1998-11-26  普通卡   男  1935-08-17           68\n",
       "4     40        5       51  1995-04-24  青年卡   女  1979-12-02           36"
      ]
     },
     "execution_count": 4,
     "metadata": {},
     "output_type": "execute_result"
    }
   ],
   "source": [
    "car_sql = '''\n",
    "select a.*,c.sex,c.birth_date,c.district_id\n",
    "    from card as a\n",
    "    left join disp as d on a.disp_id=d.disp_id\n",
    "    left join clients as c on d.client_id = c.client_id\n",
    "    where d.type = '所有者'\n",
    "'''\n",
    "card_new = pd.read_sql(car_sql,con)                 \n",
    "card_new.head()"
   ]
  },
  {
   "cell_type": "code",
   "execution_count": 5,
   "metadata": {},
   "outputs": [],
   "source": [
    "from pylab import mpl\n",
    "mpl.rcParams['font.sans-serif'] = ['SimHei']  #黑体\n",
    "mpl.rcParams['axes.unicode_minus'] = False #解决中文显示异常的问题"
   ]
  },
  {
   "cell_type": "code",
   "execution_count": 6,
   "metadata": {},
   "outputs": [],
   "source": [
    "from datetime import *\n",
    "card_new['issued_date']=pd.to_datetime(card_new['issued'])  #标准化日期\n",
    "card_new['issued_year']=card_new['issued_date'].map(lambda x:x.year)  #汇总年的情况\n"
   ]
  },
  {
   "cell_type": "code",
   "execution_count": 7,
   "metadata": {},
   "outputs": [
    {
     "data": {
      "image/png": "[encoded data removed]",
      "text/plain": [
       "<Figure size 432x288 with 1 Axes>"
      ]
     },
     "metadata": {
      "needs_background": "light"
     },
     "output_type": "display_data"
    },
    {
     "data": {
      "text/plain": [
       "<Figure size 576x432 with 0 Axes>"
      ]
     },
     "metadata": {},
     "output_type": "display_data"
    }
   ],
   "source": [
    "t1 = pd.crosstab(card_new.issued_year,card_new.type) #交叉表，数量汇总\n",
    "t1['sum1'] = t1.sum(axis=1)\n",
    "\n",
    "import matplotlib.pyplot as plt\n",
    "labels = ['青年卡','普通卡','金卡']\n",
    "y1 = t1.loc[:,'青年卡'].astype('int')\n",
    "y2 = t1.loc[:,'普通卡'].astype('int')\n",
    "y3 = t1.loc[:,'金卡'].astype('int')\n",
    "x = t1.index.astype('int')\n",
    "plt.stackplot(x,y1,y2,y3,labels = labels)\n",
    "plt.title('发卡趋势')\n",
    "plt.ylabel('发卡量')\n",
    "plt.legend(loc='upper left')\n",
    "plt.figure(figsize=(8,6))\n",
    "plt.show()"
   ]
  },
  {
   "cell_type": "code",
   "execution_count": 8,
   "metadata": {},
   "outputs": [
    {
     "data": {
      "text/plain": [
       "<matplotlib.axes._subplots.AxesSubplot at 0x26fc2497128>"
      ]
     },
     "execution_count": 8,
     "metadata": {},
     "output_type": "execute_result"
    },
    {
     "data": {
      "image/png": "[encoded data removed]",
      "text/plain": [
       "<Figure size 432x288 with 1 Axes>"
      ]
     },
     "metadata": {
      "needs_background": "light"
     },
     "output_type": "display_data"
    }
   ],
   "source": [
    "sub_sch = pd.crosstab(card_new.type,card_new.sex)\n",
    "sub_sch.div(sub_sch.sum(1),axis = 0).plot(kind = 'bar',stacked= True) #转换成各卡的百分百"
   ]
  },
  {
   "cell_type": "code",
   "execution_count": 9,
   "metadata": {},
   "outputs": [
    {
     "data": {
      "text/html": [
       "<div>\n",
       "<style scoped>\n",
       "    .dataframe tbody tr th:only-of-type {\n",
       "        vertical-align: middle;\n",
       "    }\n",
       "\n",
       "    .dataframe tbody tr th {\n",
       "        vertical-align: top;\n",
       "    }\n",
       "\n",
       "    .dataframe thead th {\n",
       "        text-align: right;\n",
       "    }\n",
       "</style>\n",
       "<table border=\"1\" class=\"dataframe\">\n",
       "  <thead>\n",
       "    <tr style=\"text-align: right;\">\n",
       "      <th></th>\n",
       "      <th>card_id</th>\n",
       "      <th>issued</th>\n",
       "      <th>type</th>\n",
       "      <th>t_type</th>\n",
       "      <th>amount</th>\n",
       "      <th>balance</th>\n",
       "      <th>t_date</th>\n",
       "    </tr>\n",
       "  </thead>\n",
       "  <tbody>\n",
       "    <tr>\n",
       "      <th>0</th>\n",
       "      <td>1</td>\n",
       "      <td>1998-10-16</td>\n",
       "      <td>金卡</td>\n",
       "      <td>贷</td>\n",
       "      <td>$900</td>\n",
       "      <td>$900</td>\n",
       "      <td>1996-11-24</td>\n",
       "    </tr>\n",
       "    <tr>\n",
       "      <th>1</th>\n",
       "      <td>1</td>\n",
       "      <td>1998-10-16</td>\n",
       "      <td>金卡</td>\n",
       "      <td>贷</td>\n",
       "      <td>$33975</td>\n",
       "      <td>$34875</td>\n",
       "      <td>1996-12-07</td>\n",
       "    </tr>\n",
       "    <tr>\n",
       "      <th>2</th>\n",
       "      <td>1</td>\n",
       "      <td>1998-10-16</td>\n",
       "      <td>金卡</td>\n",
       "      <td>借</td>\n",
       "      <td>$6,600</td>\n",
       "      <td>$28275</td>\n",
       "      <td>1996-12-24</td>\n",
       "    </tr>\n",
       "    <tr>\n",
       "      <th>3</th>\n",
       "      <td>1</td>\n",
       "      <td>1998-10-16</td>\n",
       "      <td>金卡</td>\n",
       "      <td>贷</td>\n",
       "      <td>$30</td>\n",
       "      <td>$28305</td>\n",
       "      <td>1996-12-31</td>\n",
       "    </tr>\n",
       "    <tr>\n",
       "      <th>4</th>\n",
       "      <td>1</td>\n",
       "      <td>1998-10-16</td>\n",
       "      <td>金卡</td>\n",
       "      <td>贷</td>\n",
       "      <td>$22650</td>\n",
       "      <td>$50955</td>\n",
       "      <td>1997-01-07</td>\n",
       "    </tr>\n",
       "  </tbody>\n",
       "</table>\n",
       "</div>"
      ],
      "text/plain": [
       "   card_id      issued type t_type  amount balance      t_date\n",
       "0        1  1998-10-16   金卡      贷    $900    $900  1996-11-24\n",
       "1        1  1998-10-16   金卡      贷  $33975  $34875  1996-12-07\n",
       "2        1  1998-10-16   金卡      借  $6,600  $28275  1996-12-24\n",
       "3        1  1998-10-16   金卡      贷     $30  $28305  1996-12-31\n",
       "4        1  1998-10-16   金卡      贷  $22650  $50955  1997-01-07"
      ]
     },
     "execution_count": 9,
     "metadata": {},
     "output_type": "execute_result"
    }
   ],
   "source": [
    "#链接各表取得数据\n",
    "car_sql='''\n",
    "select a.card_id, a.issued, a.type, c.type as t_type, c.amount, c.balance, c.date as t_date\n",
    "    from card as a\n",
    "    left join disp as b on a.disp_id=b.disp_id\n",
    "    left join trans as c on b.account_id = c.account_id\n",
    "    where b.type = '所有者'\n",
    "    order by a.card_id, c.date\n",
    "'''\n",
    "card_t = pd.read_sql(car_sql, con)\n",
    "card_t.head()"
   ]
  },
  {
   "cell_type": "code",
   "execution_count": 10,
   "metadata": {},
   "outputs": [],
   "source": [
    "#转换时间\n",
    "card_t['issued']=pd.to_datetime(card_t['issued'])\n",
    "card_t['t_date']=pd.to_datetime(card_t['t_date'])"
   ]
  },
  {
   "cell_type": "code",
   "execution_count": 11,
   "metadata": {},
   "outputs": [
    {
     "data": {
      "text/html": [
       "<div>\n",
       "<style scoped>\n",
       "    .dataframe tbody tr th:only-of-type {\n",
       "        vertical-align: middle;\n",
       "    }\n",
       "\n",
       "    .dataframe tbody tr th {\n",
       "        vertical-align: top;\n",
       "    }\n",
       "\n",
       "    .dataframe thead th {\n",
       "        text-align: right;\n",
       "    }\n",
       "</style>\n",
       "<table border=\"1\" class=\"dataframe\">\n",
       "  <thead>\n",
       "    <tr style=\"text-align: right;\">\n",
       "      <th></th>\n",
       "      <th>card_id</th>\n",
       "      <th>issued</th>\n",
       "      <th>type</th>\n",
       "      <th>t_type</th>\n",
       "      <th>amount</th>\n",
       "      <th>balance</th>\n",
       "      <th>t_date</th>\n",
       "    </tr>\n",
       "  </thead>\n",
       "  <tbody>\n",
       "    <tr>\n",
       "      <th>0</th>\n",
       "      <td>1</td>\n",
       "      <td>1998-10-16</td>\n",
       "      <td>金卡</td>\n",
       "      <td>贷</td>\n",
       "      <td>900</td>\n",
       "      <td>900</td>\n",
       "      <td>1996-11-24</td>\n",
       "    </tr>\n",
       "    <tr>\n",
       "      <th>1</th>\n",
       "      <td>1</td>\n",
       "      <td>1998-10-16</td>\n",
       "      <td>金卡</td>\n",
       "      <td>贷</td>\n",
       "      <td>33975</td>\n",
       "      <td>34875</td>\n",
       "      <td>1996-12-07</td>\n",
       "    </tr>\n",
       "    <tr>\n",
       "      <th>2</th>\n",
       "      <td>1</td>\n",
       "      <td>1998-10-16</td>\n",
       "      <td>金卡</td>\n",
       "      <td>借</td>\n",
       "      <td>6600</td>\n",
       "      <td>28275</td>\n",
       "      <td>1996-12-24</td>\n",
       "    </tr>\n",
       "    <tr>\n",
       "      <th>3</th>\n",
       "      <td>1</td>\n",
       "      <td>1998-10-16</td>\n",
       "      <td>金卡</td>\n",
       "      <td>贷</td>\n",
       "      <td>30</td>\n",
       "      <td>28305</td>\n",
       "      <td>1996-12-31</td>\n",
       "    </tr>\n",
       "    <tr>\n",
       "      <th>4</th>\n",
       "      <td>1</td>\n",
       "      <td>1998-10-16</td>\n",
       "      <td>金卡</td>\n",
       "      <td>贷</td>\n",
       "      <td>22650</td>\n",
       "      <td>50955</td>\n",
       "      <td>1997-01-07</td>\n",
       "    </tr>\n",
       "  </tbody>\n",
       "</table>\n",
       "</div>"
      ],
      "text/plain": [
       "   card_id     issued type t_type  amount  balance     t_date\n",
       "0        1 1998-10-16   金卡      贷     900      900 1996-11-24\n",
       "1        1 1998-10-16   金卡      贷   33975    34875 1996-12-07\n",
       "2        1 1998-10-16   金卡      借    6600    28275 1996-12-24\n",
       "3        1 1998-10-16   金卡      贷      30    28305 1996-12-31\n",
       "4        1 1998-10-16   金卡      贷   22650    50955 1997-01-07"
      ]
     },
     "execution_count": 11,
     "metadata": {},
     "output_type": "execute_result"
    }
   ],
   "source": [
    "#数据清洗：转换成时间，去掉逗号\n",
    "import datetime\n",
    "card_t['balance'] = card_t['balance'].map(lambda x:int(''.join(x[1:].split(','))))\n",
    "card_t['amount'] = card_t['amount'].map(lambda x:int(''.join(x[1:].split(','))))\n",
    "card_t.head()"
   ]
  },
  {
   "cell_type": "code",
   "execution_count": 12,
   "metadata": {},
   "outputs": [
    {
     "name": "stderr",
     "output_type": "stream",
     "text": [
      "C:\\ProgramData\\Anaconda3\\lib\\site-packages\\ipykernel_launcher.py:2: UserWarning: Boolean Series key will be reindexed to match DataFrame index.\n",
      "  \n"
     ]
    }
   ],
   "source": [
    "#发卡时间一年内的用户\n",
    "card_t1 = card_t[card_t.issued>card_t.t_date]\n",
    "card_t1 = card_t1[card_t.issued<card_t.t_date+datetime.timedelta(days=365)]"
   ]
  },
  {
   "cell_type": "code",
   "execution_count": 13,
   "metadata": {},
   "outputs": [],
   "source": [
    "card_t1['avg_balance'] = card_t1.groupby('card_id')['balance'].mean() #分类汇总\n",
    "card_t2=card_t1.groupby(['type','card_id'])['balance'].agg([('avg_balance','mean')])#分类后再聚合\n",
    "card_t2.to_sql('card_t2', con)"
   ]
  },
  {
   "cell_type": "code",
   "execution_count": 14,
   "metadata": {},
   "outputs": [
    {
     "data": {
      "text/html": [
       "<div>\n",
       "<style scoped>\n",
       "    .dataframe tbody tr th:only-of-type {\n",
       "        vertical-align: middle;\n",
       "    }\n",
       "\n",
       "    .dataframe tbody tr th {\n",
       "        vertical-align: top;\n",
       "    }\n",
       "\n",
       "    .dataframe thead th {\n",
       "        text-align: right;\n",
       "    }\n",
       "</style>\n",
       "<table border=\"1\" class=\"dataframe\">\n",
       "  <thead>\n",
       "    <tr style=\"text-align: right;\">\n",
       "      <th></th>\n",
       "      <th></th>\n",
       "      <th>avg_balance</th>\n",
       "    </tr>\n",
       "    <tr>\n",
       "      <th>type</th>\n",
       "      <th>card_id</th>\n",
       "      <th></th>\n",
       "    </tr>\n",
       "  </thead>\n",
       "  <tbody>\n",
       "    <tr>\n",
       "      <th rowspan=\"5\" valign=\"top\">普通卡</th>\n",
       "      <th>2</th>\n",
       "      <td>38898.610169</td>\n",
       "    </tr>\n",
       "    <tr>\n",
       "      <th>4</th>\n",
       "      <td>54222.060976</td>\n",
       "    </tr>\n",
       "    <tr>\n",
       "      <th>7</th>\n",
       "      <td>46888.702381</td>\n",
       "    </tr>\n",
       "    <tr>\n",
       "      <th>9</th>\n",
       "      <td>55854.223881</td>\n",
       "    </tr>\n",
       "    <tr>\n",
       "      <th>10</th>\n",
       "      <td>51387.500000</td>\n",
       "    </tr>\n",
       "  </tbody>\n",
       "</table>\n",
       "</div>"
      ],
      "text/plain": [
       "               avg_balance\n",
       "type card_id              \n",
       "普通卡  2        38898.610169\n",
       "     4        54222.060976\n",
       "     7        46888.702381\n",
       "     9        55854.223881\n",
       "     10       51387.500000"
      ]
     },
     "execution_count": 14,
     "metadata": {},
     "output_type": "execute_result"
    }
   ],
   "source": [
    "card_t2.head()"
   ]
  },
  {
   "cell_type": "code",
   "execution_count": 15,
   "metadata": {},
   "outputs": [
    {
     "data": {
      "text/plain": [
       "<matplotlib.axes._subplots.AxesSubplot at 0x26fc839dfd0>"
      ]
     },
     "execution_count": 15,
     "metadata": {},
     "output_type": "execute_result"
    },
    {
     "data": {
      "image/png": "[encoded data removed]",
      "text/plain": [
       "<Figure size 432x288 with 1 Axes>"
      ]
     },
     "metadata": {
      "needs_background": "light"
     },
     "output_type": "display_data"
    }
   ],
   "source": [
    "#银行卡账户余额对比\n",
    "import seaborn as sns\n",
    "card_t3 = card_t2.reset_index()\n",
    "sns.boxplot(x = 'type', y ='avg_balance', data = card_t3) #自动识别数据类型"
   ]
  },
  {
   "cell_type": "code",
   "execution_count": null,
   "metadata": {},
   "outputs": [],
   "source": []
  }
 ],
 "metadata": {
  "kernelspec": {
   "display_name": "Python 3",
   "language": "python",
   "name": "python3"
  },
  "language_info": {
   "codemirror_mode": {
    "name": "ipython",
    "version": 3
   },
   "file_extension": ".py",
   "mimetype": "text/x-python",
   "name": "python",
   "nbconvert_exporter": "python",
   "pygments_lexer": "ipython3",
   "version": "3.7.3"
  }
 },
 "nbformat": 4,
 "nbformat_minor": 2
}
